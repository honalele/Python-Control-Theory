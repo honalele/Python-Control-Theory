{
 "cells": [
  {
   "cell_type": "markdown",
   "metadata": {},
   "source": [
    "## 動的システム\n",
    "\n",
    "- **動的システム**：　現在の出力に過去の入力が関係するシステム、\n",
    "- **静的システムとの違い**は、「メモリを持っているかどうか」の違い、例：ノックを入力、カチッと音を出力すると、このシステムは静的システムです。なぜなら「カチッ」音するのはノックするのみによって決まる。一方で、シャープペンの芯の長さは、現在に入力だけでは決まらず、過去にどれだけノックしたかの影響を受けます。\n",
    "- システムの表現方法\n",
    "1. 微分工程式\n",
    "2. 伝達関数\n",
    "3. 状態方程式（状態空間モデル）"
   ]
  },
  {
   "cell_type": "markdown",
   "metadata": {},
   "source": [
    "#### 伝達関数\n",
    "$\n",
    "P(s) = \\frac{s+2}{s^3+5s^2+3s+4}\n",
    "$"
   ]
  },
  {
   "cell_type": "code",
   "execution_count": 5,
   "metadata": {},
   "outputs": [
    {
     "name": "stdout",
     "output_type": "stream",
     "text": [
      "[array([1, 2])]\n",
      "[array([1, 5, 3, 4])]\n"
     ]
    }
   ],
   "source": [
    "from control.matlab import *\n",
    "P = tf([1,2], [1, 5, 3, 4])\n",
    "\n",
    "# 伝達関数の分子多項式と分母多項式の係数を抽出\n",
    "[[numP], [denP]] = tfdata(P)\n",
    "print(numP)\n",
    "print(denP)"
   ]
  },
  {
   "cell_type": "markdown",
   "metadata": {},
   "source": [
    "#### 状態空間モデル state-space form\n",
    "行列表現とすることで、多元高階の微分工程式を1階の微分方程式で表現するものです。\n",
    "* 伝達関数モデルでは入力と出力の関係を表していましたが、状態空間モデルでは、入力->状態->出力の関係を記述することになり、状態を自由に選ぶことができます。\n",
    "\n",
    "$$\n",
    "\\begin{align}\n",
    "\\dot{x}(t) = \\boldsymbol{A}x(t) + \\boldsymbol{B}u(t) \\\\\n",
    "y(t) = \\boldsymbol{C}x(t) + \\boldsymbol{D}u(t)\n",
    "\\end{align}\n",
    "$$"
   ]
  },
  {
   "cell_type": "markdown",
   "metadata": {},
   "source": [
    "- 例：次の状態空間モデルをPythonで記述しなさい。\n",
    "$$\n",
    "    P:\n",
    "        \\begin{cases}\n",
    "            \\dot{x}(t) = \\left[\\begin{array}{ccc}\n",
    "            1 & 1 & 2 \\\\\n",
    "             2 & 1 & 1\\\\\n",
    "            3 & 4 & 5\\\\\n",
    "            \\end{array}\\right] x(t) + \\left[\\begin{array}{ccc} 2 \\\\0         \\\\1\\end{array}\\right]u(t)\\\\\n",
    "            y(t) = [1    1   0]x(t) + u(t)\n",
    "        \\end{cases}\n",
    "$$"
   ]
  },
  {
   "cell_type": "code",
   "execution_count": 9,
   "metadata": {},
   "outputs": [
    {
     "name": "stdout",
     "output_type": "stream",
     "text": [
      "A: [[1. 1. 2.]\n",
      " [2. 1. 1.]\n",
      " [3. 4. 5.]]\n",
      "B: [[2.]\n",
      " [0.]\n",
      " [1.]]\n",
      "C: [[1. 1. 0.]]\n",
      "D: [[0.]]\n"
     ]
    }
   ],
   "source": [
    "A = '1 1 2; 2 1 1; 3 4 5'\n",
    "B = '2; 0; 1'\n",
    "C = '1 1 0'\n",
    "D = '0'\n",
    "P = ss(A, B, C, D)\n",
    "\n",
    "print('A:', P.A)\n",
    "print('B:', P.B)\n",
    "print('C:', P.C)\n",
    "print('D:', P.D)"
   ]
  },
  {
   "cell_type": "code",
   "execution_count": null,
   "metadata": {},
   "outputs": [],
   "source": []
  }
 ],
 "metadata": {
  "kernelspec": {
   "display_name": "Python 3",
   "language": "python",
   "name": "python3"
  },
  "language_info": {
   "codemirror_mode": {
    "name": "ipython",
    "version": 3
   },
   "file_extension": ".py",
   "mimetype": "text/x-python",
   "name": "python",
   "nbconvert_exporter": "python",
   "pygments_lexer": "ipython3",
   "version": "3.7.3"
  }
 },
 "nbformat": 4,
 "nbformat_minor": 2
}
