{
 "cells": [
  {
   "cell_type": "markdown",
   "metadata": {},
   "source": [
    "### 状態フィードバック制御\n",
    "\n",
    "状態空間モデル$\\dot(x) = \\boldsymbol{A}x + \\boldsymbol{B}u$で記述されたシステムに対して制御器を設計します。\n",
    "\n",
    "$$\n",
    "u = \\boldsymbol{F}x\n",
    "$$\n",
    "\n",
    "という状態フィードバック制御を考えます。状態$x$の情報を利用して、制御入力$u$を決めるものとなっています。"
   ]
  },
  {
   "cell_type": "markdown",
   "metadata": {},
   "source": [
    "### 最適レギュレータ\n"
   ]
  }
 ],
 "metadata": {
  "kernelspec": {
   "display_name": "Python 3",
   "language": "python",
   "name": "python3"
  },
  "language_info": {
   "codemirror_mode": {
    "name": "ipython",
    "version": 3
   },
   "file_extension": ".py",
   "mimetype": "text/x-python",
   "name": "python",
   "nbconvert_exporter": "python",
   "pygments_lexer": "ipython3",
   "version": "3.7.3"
  }
 },
 "nbformat": 4,
 "nbformat_minor": 2
}
