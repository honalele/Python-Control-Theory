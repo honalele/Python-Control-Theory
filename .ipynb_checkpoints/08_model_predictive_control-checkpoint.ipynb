{
 "cells": [
  {
   "cell_type": "markdown",
   "metadata": {},
   "source": [
    "### 閉ループ系制御設計\n",
    "制御対象$P$に対して、以下の図に示す閉ループ系（フィードバック制御系）を構築することを目標とします。\n",
    "\n",
    "\n",
    "![フィードバックシステムブロック](./fig/closed_feedback_control.png)\n",
    "\n",
    "- $P$は制御対象\n",
    "- $MPC$は制御システム\n",
    "- $r$は目標値\n",
    "- $u$は制御入力\n",
    "- $d$は外乱\n",
    "- $y$は出力\n",
    "- $e$は偏差\n",
    "\n",
    "目的：閉ループ系が望ましい特性になるように制御系$MPC$を設計します。\n",
    "\n",
    "#### 安定性\n",
    "閉ループ系では、外部から$r$と$d$が入力されます。そして出力は、制御対象の出力の$y$と制御入力の$u$です。"
   ]
  },
  {
   "cell_type": "code",
   "execution_count": null,
   "metadata": {},
   "outputs": [],
   "source": []
  }
 ],
 "metadata": {
  "kernelspec": {
   "display_name": "Python 3",
   "language": "python",
   "name": "python3"
  },
  "language_info": {
   "codemirror_mode": {
    "name": "ipython",
    "version": 3
   },
   "file_extension": ".py",
   "mimetype": "text/x-python",
   "name": "python",
   "nbconvert_exporter": "python",
   "pygments_lexer": "ipython3",
   "version": "3.7.3"
  }
 },
 "nbformat": 4,
 "nbformat_minor": 2
}
