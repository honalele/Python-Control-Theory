{
 "cells": [
  {
   "cell_type": "markdown",
   "metadata": {},
   "source": [
    "## フィードバックシステム\n",
    "\n",
    "### ブロック線図\n",
    "制御工学では、システムをブロック線図を用いて図示します。直列(series)の場合、ブロックを並べて、式では掛け算で表し、並列(parallel)の場合、ブロックを並列で並べさせ、式では足し算で表します。\n",
    "\n",
    "### フィードバックシステムブロック線図\n",
    "![フィードバックシステムブロック](./fig/feedback_control.png)\n",
    "\n",
    "$y$は出力、$u$は制御入力、$z$は潜在観測値、$r$はコストと設定します。\n",
    "\n",
    "$$\n",
    "y = Sr \\\\\n",
    "y = \\frac{S_1 S_2}{ 1 + S_1 S_2} r \\\\\n",
    "S = \\frac{S_1 S_2}{ 1 + S_1 S_2}\n",
    "$$"
   ]
  },
  {
   "cell_type": "code",
   "execution_count": 2,
   "metadata": {},
   "outputs": [
    {
     "name": "stdout",
     "output_type": "stream",
     "text": [
      "S= \n",
      "         s^4 + 3 s^3 + 4 s^2 + 3 s + 1\n",
      "-----------------------------------------------\n",
      "s^6 + 4 s^5 + 9 s^4 + 13 s^3 + 12 s^2 + 7 s + 2\n",
      "\n"
     ]
    }
   ],
   "source": [
    "from control.matlab import *\n",
    "\n",
    "S1 = tf([0, 1], [1, 1])\n",
    "S2 = tf([1, 1], [1, 1, 1])\n",
    "\n",
    "S = S1*S2 / (1 + S1*S2)\n",
    "\n",
    "print('S=', S)"
   ]
  },
  {
   "cell_type": "code",
   "execution_count": null,
   "metadata": {},
   "outputs": [],
   "source": []
  }
 ],
 "metadata": {
  "kernelspec": {
   "display_name": "Python 3",
   "language": "python",
   "name": "python3"
  },
  "language_info": {
   "codemirror_mode": {
    "name": "ipython",
    "version": 3
   },
   "file_extension": ".py",
   "mimetype": "text/x-python",
   "name": "python",
   "nbconvert_exporter": "python",
   "pygments_lexer": "ipython3",
   "version": "3.7.3"
  }
 },
 "nbformat": 4,
 "nbformat_minor": 2
}
