{
 "cells": [
  {
   "cell_type": "markdown",
   "metadata": {},
   "source": [
    "## フィードバックシステム\n",
    "\n",
    "### ブロック線図\n",
    "制御工学では、システムをブロック線図を用いて図示します。直列(series)の場合、ブロックを並べて、式では掛け算で表し、並列(parallel)の場合、ブロックを並列で並べさせ、式では足し算で表します。\n",
    "\n",
    "### フィードバックシステムブロック線図\n",
    "![フィードバックシステムブロック](./fig/feedback_control.png)\n",
    "\n",
    "$y$は出力、$u$は制御入力、$z$は潜在観測値、$r$はコストと設定します。\n",
    "\n",
    "$$\n",
    "y = Sr \\\\\n",
    "y = \\frac{S_1 S_2}{ 1 + S_1 S_2} r\n",
    "$$"
   ]
  },
  {
   "cell_type": "code",
   "execution_count": null,
   "metadata": {},
   "outputs": [],
   "source": [
    "from control.matlab import *\n",
    "\n",
    "S1 = tf([0, 1], [1, 1])\n",
    "S2 = tf([1, 1], [1, 1, 1])\n",
    "S = S1*S2 / (S1*S2)"
   ]
  }
 ],
 "metadata": {
  "kernelspec": {
   "display_name": "Python 3",
   "language": "python",
   "name": "python3"
  },
  "language_info": {
   "codemirror_mode": {
    "name": "ipython",
    "version": 3
   },
   "file_extension": ".py",
   "mimetype": "text/x-python",
   "name": "python",
   "nbconvert_exporter": "python",
   "pygments_lexer": "ipython3",
   "version": "3.7.3"
  }
 },
 "nbformat": 4,
 "nbformat_minor": 2
}
