{
 "cells": [
  {
   "cell_type": "code",
   "execution_count": 10,
   "metadata": {},
   "outputs": [
    {
     "name": "stdout",
     "output_type": "stream",
     "text": [
      "Control\n",
      "<class 'int'>\n"
     ]
    }
   ],
   "source": [
    "# 1. Data and Type\n",
    "print('Control')\n",
    "x = 1\n",
    "print(type(x))"
   ]
  },
  {
   "cell_type": "code",
   "execution_count": 11,
   "metadata": {},
   "outputs": [
    {
     "name": "stdout",
     "output_type": "stream",
     "text": [
      "[3, 5, 2, 4, 6, 1]\n",
      "[3, 5]\n",
      "[8, 3, 5, 2, 4, 6, 1]\n",
      "[10, 2, 3]\n",
      "[10, 2, 3]\n"
     ]
    }
   ],
   "source": [
    "# 2. List\n",
    "# 1-d array\n",
    "data1 = [3,  5, 2, 4, 6, 1]\n",
    "# 2-d array\n",
    "data2 = [[3, 5, 2], [ 4, 6, 1]]\n",
    "\n",
    "# Slice\n",
    "print(data1)\n",
    "print(data1[0:2])\n",
    "\n",
    "# Insert\n",
    "data1.insert(0, 8)\n",
    "print(data1)\n",
    "\n",
    "# List deep copy\n",
    "x = [1, 2, 3]\n",
    "y = x\n",
    "y[0] = 10\n",
    "print(y)\n",
    "print(x)"
   ]
  },
  {
   "cell_type": "code",
   "execution_count": 13,
   "metadata": {},
   "outputs": [
    {
     "data": {
      "text/plain": [
       "tuple"
      ]
     },
     "execution_count": 13,
     "metadata": {},
     "output_type": "execute_result"
    }
   ],
   "source": [
    "# 3. Tuple\n",
    "tuple = (1, 2, 3, 4) \n",
    "type(tuple)"
   ]
  },
  {
   "cell_type": "code",
   "execution_count": 17,
   "metadata": {},
   "outputs": [
    {
     "name": "stdout",
     "output_type": "stream",
     "text": [
      "{'linestyle': '-.', 'color': 'k'}\n",
      "-.\n",
      "{'linestyle': '--', 'color': 'k', 'label': 'plt'}\n"
     ]
    }
   ],
   "source": [
    "# 4. dict 辞書\n",
    "d = {'linestyle': '-.', 'color': 'k'}\n",
    "print(d)\n",
    "print(d['linestyle'])\n",
    "\n",
    "#update\n",
    "x =  {'linestyle': '--', 'label': 'plt'}\n",
    "d.update(x)\n",
    "print(d)"
   ]
  },
  {
   "cell_type": "code",
   "execution_count": null,
   "metadata": {},
   "outputs": [],
   "source": [
    "#  5. フロー制御\n",
    "# 5.1 if文\n",
    "\"\"\"\n",
    "== : equal\n",
    "!= : not equal\n",
    "> : larger\n",
    ">= : larger or euqal, 以上\n",
    "< : smaller, 未満\n",
    ">= : smaller or euqal, 以下\n",
    "\n",
    "\"\"\"\n",
    "if condition1:\n",
    "    pass\n",
    "elif condtion2:\n",
    "    pass\n",
    "else:\n",
    "    pass\n",
    "    \n",
    "# 5.２ for文\n",
    "for variable in object1:\n",
    "    statement\n"
   ]
  },
  {
   "cell_type": "code",
   "execution_count": 18,
   "metadata": {},
   "outputs": [
    {
     "name": "stdout",
     "output_type": "stream",
     "text": [
      "0 a\n",
      "1 b\n",
      "2 c\n"
     ]
    }
   ],
   "source": [
    "for i, word in enumerate(['a', 'b', 'c']):\n",
    "    print(i, word)"
   ]
  },
  {
   "cell_type": "code",
   "execution_count": 22,
   "metadata": {},
   "outputs": [
    {
     "name": "stdout",
     "output_type": "stream",
     "text": [
      "6\n",
      "15\n"
     ]
    },
    {
     "ename": "TypeError",
     "evalue": "show() takes 0 positional arguments but 1 was given",
     "output_type": "error",
     "traceback": [
      "\u001b[0;31m---------------------------------------------------------------------------\u001b[0m",
      "\u001b[0;31mTypeError\u001b[0m                                 Traceback (most recent call last)",
      "\u001b[0;32m<ipython-input-22-17a6784d7788>\u001b[0m in \u001b[0;36m<module>\u001b[0;34m\u001b[0m\n\u001b[1;32m     12\u001b[0m     \u001b[0mprint\u001b[0m\u001b[0;34m(\u001b[0m\u001b[0;34m'kwargs: '\u001b[0m\u001b[0;34m,\u001b[0m \u001b[0mkwargs\u001b[0m\u001b[0;34m)\u001b[0m\u001b[0;34m\u001b[0m\u001b[0;34m\u001b[0m\u001b[0m\n\u001b[1;32m     13\u001b[0m     \u001b[0mprint\u001b[0m\u001b[0;34m(\u001b[0m\u001b[0;34m'type: '\u001b[0m\u001b[0;34m,\u001b[0m \u001b[0mtype\u001b[0m\u001b[0;34m(\u001b[0m\u001b[0mkwargs\u001b[0m\u001b[0;34m)\u001b[0m\u001b[0;34m)\u001b[0m\u001b[0;34m\u001b[0m\u001b[0;34m\u001b[0m\u001b[0m\n\u001b[0;32m---> 14\u001b[0;31m \u001b[0mshow\u001b[0m\u001b[0;34m(\u001b[0m\u001b[0md\u001b[0m\u001b[0;34m)\u001b[0m\u001b[0;34m\u001b[0m\u001b[0;34m\u001b[0m\u001b[0m\n\u001b[0m",
      "\u001b[0;31mTypeError\u001b[0m: show() takes 0 positional arguments but 1 was given"
     ]
    }
   ],
   "source": [
    "# 6. function\n",
    "\n",
    "def add(*args):\n",
    "    return args[0] + args[1] + args[2]\n",
    "print(add(1, 2, 3))\n",
    "value = [4, 5, 6]\n",
    "print(add(*value))\n",
    "\n",
    "\n",
    "d = {'linestyle': '-.', 'color': 'k'}\n",
    "def show(**kwargs):\n",
    "    print('kwargs: ', kwargs)\n",
    "    print('type: ', type(kwargs))\n",
    "show(d)"
   ]
  },
  {
   "cell_type": "code",
   "execution_count": null,
   "metadata": {},
   "outputs": [],
   "source": []
  }
 ],
 "metadata": {
  "kernelspec": {
   "display_name": "Python 3",
   "language": "python",
   "name": "python3"
  },
  "language_info": {
   "codemirror_mode": {
    "name": "ipython",
    "version": 3
   },
   "file_extension": ".py",
   "mimetype": "text/x-python",
   "name": "python",
   "nbconvert_exporter": "python",
   "pygments_lexer": "ipython3",
   "version": "3.7.3"
  }
 },
 "nbformat": 4,
 "nbformat_minor": 2
}
